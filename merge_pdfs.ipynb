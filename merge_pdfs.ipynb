{
  "nbformat": 4,
  "nbformat_minor": 0,
  "metadata": {
    "colab": {
      "provenance": [],
      "authorship_tag": "ABX9TyOIPUOoXnWw+GSzmoGIA7XP",
      "include_colab_link": true
    },
    "kernelspec": {
      "name": "python3",
      "display_name": "Python 3"
    },
    "language_info": {
      "name": "python"
    }
  },
  "cells": [
    {
      "cell_type": "markdown",
      "metadata": {
        "id": "view-in-github",
        "colab_type": "text"
      },
      "source": [
        "<a href=\"https://colab.research.google.com/github/comparativechrono/merge_pdfs/blob/main/merge_pdfs.ipynb\" target=\"_parent\"><img src=\"https://colab.research.google.com/assets/colab-badge.svg\" alt=\"Open In Colab\"/></a>"
      ]
    },
    {
      "cell_type": "code",
      "execution_count": null,
      "metadata": {
        "colab": {
          "base_uri": "https://localhost:8080/"
        },
        "id": "Q1a46WeITAKo",
        "outputId": "3e5eb8c2-7e1b-49fc-f114-7aacd3e8037b"
      },
      "outputs": [
        {
          "output_type": "stream",
          "name": "stdout",
          "text": [
            "Collecting PyPDF2\n",
            "  Downloading pypdf2-3.0.1-py3-none-any.whl (232 kB)\n",
            "\u001b[?25l     \u001b[90m━━━━━━━━━━━━━━━━━━━━━━━━━━━━━━━━━━━━━━━━\u001b[0m \u001b[32m0.0/232.6 kB\u001b[0m \u001b[31m?\u001b[0m eta \u001b[36m-:--:--\u001b[0m\r\u001b[2K     \u001b[90m━━━━━━━━━━━━━━━━━━━━━━━━━━━━━━━━━━━━━━━\u001b[0m \u001b[32m232.6/232.6 kB\u001b[0m \u001b[31m7.5 MB/s\u001b[0m eta \u001b[36m0:00:00\u001b[0m\n",
            "\u001b[?25hInstalling collected packages: PyPDF2\n",
            "Successfully installed PyPDF2-3.0.1\n"
          ]
        }
      ],
      "source": [
        "pip install PyPDF2\n"
      ]
    },
    {
      "cell_type": "code",
      "source": [
        "import PyPDF2\n",
        "\n",
        "def merge_pdfs(paths, output):\n",
        "    pdf_writer = PyPDF2.PdfWriter()\n",
        "\n",
        "    for path in paths:\n",
        "        pdf_reader = PyPDF2.PdfReader(path)\n",
        "        for page in range(len(pdf_reader.pages)):\n",
        "            # Add each page to the writer object\n",
        "            pdf_writer.add_page(pdf_reader.pages[page])\n",
        "\n",
        "    # Write out the merged PDF\n",
        "    with open(output, 'wb') as out:\n",
        "        pdf_writer.write(out)\n",
        "\n",
        "if __name__ == '__main__':\n",
        "    paths = ['1.pdf.pdf', '2.pdf.pdf']\n",
        "    merge_pdfs(paths, output='my_file.pdf')\n"
      ],
      "metadata": {
        "id": "y1QRggb9Tj9E"
      },
      "execution_count": null,
      "outputs": []
    }
  ]
}